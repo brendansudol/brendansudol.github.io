{
 "cells": [
  {
   "cell_type": "code",
   "execution_count": 160,
   "metadata": {
    "collapsed": false
   },
   "outputs": [
    {
     "name": "stdout",
     "output_type": "stream",
     "text": [
      "Populating the interactive namespace from numpy and matplotlib\n"
     ]
    }
   ],
   "source": [
    "%pylab inline"
   ]
  },
  {
   "cell_type": "code",
   "execution_count": 174,
   "metadata": {
    "collapsed": true
   },
   "outputs": [],
   "source": [
    "import itertools\n",
    "import pandas as pd\n",
    "import numpy as np\n",
    "import matplotlib.pyplot as plt\n",
    "import seaborn as sns\n",
    "from sklearn.ensemble import RandomForestClassifier\n",
    "from sklearn.cross_validation import StratifiedKFold, train_test_split\n",
    "from sklearn.grid_search import GridSearchCV"
   ]
  },
  {
   "cell_type": "code",
   "execution_count": 162,
   "metadata": {
    "collapsed": false
   },
   "outputs": [],
   "source": [
    "pd.set_option('display.width', 500)\n",
    "pd.set_option('display.max_columns', 30)\n",
    "\n",
    "sns.set_style(\"darkgrid\")\n",
    "sns.set_context(rc={\"figure.figsize\": (6, 3)})"
   ]
  },
  {
   "cell_type": "code",
   "execution_count": 4,
   "metadata": {
    "collapsed": false
   },
   "outputs": [],
   "source": [
    "# load in train and test data\n",
    "\n",
    "dfs = {}\n",
    "for name in ['train', 'test']:\n",
    "    df = pd.read_csv('../data/%s.csv' % name)\n",
    "    df['data'] = name\n",
    "    dfs[name] = df"
   ]
  },
  {
   "cell_type": "code",
   "execution_count": 44,
   "metadata": {
    "collapsed": false
   },
   "outputs": [
    {
     "name": "stdout",
     "output_type": "stream",
     "text": [
      "df: test\n",
      "\n",
      "shape: 418 rows, 12 cols\n",
      "\n",
      "column info:\n",
      "* PassengerId: 0 nulls, 418 unique vals, most common: {1128: 1, 1023: 1}\n",
      "* Pclass: 0 nulls, 3 unique vals, most common: {1: 107, 3: 218}\n",
      "* Name: 0 nulls, 418 unique vals, most common: {'Rosenbaum, Miss. Edith Louise': 1, 'Beauchamp, Mr. Henry James': 1}\n",
      "* Sex: 0 nulls, 2 unique vals, most common: {'male': 266, 'female': 152}\n",
      "* Age: 86 nulls, 79 unique vals, most common: {24.0: 17, 21.0: 17}\n",
      "* SibSp: 0 nulls, 7 unique vals, most common: {0: 283, 1: 110}\n",
      "* Parch: 0 nulls, 8 unique vals, most common: {0: 324, 1: 52}\n",
      "* Ticket: 0 nulls, 363 unique vals, most common: {'PC 17608': 5, '113503': 4}\n",
      "* Fare: 1 nulls, 169 unique vals, most common: {7.75: 21, 26.0: 19}\n",
      "* Cabin: 327 nulls, 76 unique vals, most common: {'B57 B59 B63 B66': 3, 'C101': 2}\n",
      "* Embarked: 0 nulls, 3 unique vals, most common: {'S': 270, 'C': 102}\n",
      "* data: 0 nulls, 1 unique vals, most common: {'test': 418}\n",
      "\n",
      "------\n",
      "\n",
      "df: train\n",
      "\n",
      "shape: 891 rows, 13 cols\n",
      "\n",
      "column info:\n",
      "* PassengerId: 0 nulls, 891 unique vals, most common: {891: 1, 293: 1}\n",
      "* Survived: 0 nulls, 2 unique vals, most common: {0: 549, 1: 342}\n",
      "* Pclass: 0 nulls, 3 unique vals, most common: {1: 216, 3: 491}\n",
      "* Name: 0 nulls, 891 unique vals, most common: {'Graham, Mr. George Edward': 1, 'Elias, Mr. Tannous': 1}\n",
      "* Sex: 0 nulls, 2 unique vals, most common: {'male': 577, 'female': 314}\n",
      "* Age: 177 nulls, 88 unique vals, most common: {24.0: 30, 22.0: 27}\n",
      "* SibSp: 0 nulls, 7 unique vals, most common: {0: 608, 1: 209}\n",
      "* Parch: 0 nulls, 7 unique vals, most common: {0: 678, 1: 118}\n",
      "* Ticket: 0 nulls, 681 unique vals, most common: {'CA. 2343': 7, '347082': 7}\n",
      "* Fare: 0 nulls, 248 unique vals, most common: {13.0: 42, 8.0500000000000007: 43}\n",
      "* Cabin: 687 nulls, 147 unique vals, most common: {'G6': 4, 'C23 C25 C27': 4}\n",
      "* Embarked: 2 nulls, 3 unique vals, most common: {'S': 644, 'C': 168}\n",
      "* data: 0 nulls, 1 unique vals, most common: {'train': 891}\n",
      "\n",
      "------\n",
      "\n"
     ]
    }
   ],
   "source": [
    "# basic info about columns in each dataset\n",
    "\n",
    "for name, df in dfs.iteritems():\n",
    "    print 'df: %s\\n' % name\n",
    "    print 'shape: %d rows, %d cols\\n' % df.shape\n",
    "    \n",
    "    print 'column info:'\n",
    "    for col in df.columns:\n",
    "        print '* %s: %d nulls, %d unique vals, most common: %s' % (\n",
    "            col, \n",
    "            df[col].isnull().sum(),\n",
    "            df[col].nunique(),\n",
    "            df[col].value_counts().head(2).to_dict()\n",
    "        )\n",
    "    print '\\n------\\n'"
   ]
  },
  {
   "cell_type": "code",
   "execution_count": 163,
   "metadata": {
    "collapsed": false
   },
   "outputs": [
    {
     "data": {
      "text/html": [
       "<div style=\"max-height:1000px;max-width:1500px;overflow:auto;\">\n",
       "<table border=\"1\" class=\"dataframe\">\n",
       "  <thead>\n",
       "    <tr style=\"text-align: right;\">\n",
       "      <th></th>\n",
       "      <th>data</th>\n",
       "      <th>passengerid</th>\n",
       "      <th>survived</th>\n",
       "      <th>age</th>\n",
       "      <th>cabin</th>\n",
       "      <th>embarked</th>\n",
       "      <th>fare</th>\n",
       "      <th>name</th>\n",
       "      <th>parch</th>\n",
       "      <th>pclass</th>\n",
       "      <th>sex</th>\n",
       "      <th>sibsp</th>\n",
       "      <th>ticket</th>\n",
       "    </tr>\n",
       "  </thead>\n",
       "  <tbody>\n",
       "    <tr>\n",
       "      <th>0</th>\n",
       "      <td> train</td>\n",
       "      <td> 1</td>\n",
       "      <td> 0</td>\n",
       "      <td> 22</td>\n",
       "      <td>  NaN</td>\n",
       "      <td> S</td>\n",
       "      <td>  7.2500</td>\n",
       "      <td>                           Braund, Mr. Owen Harris</td>\n",
       "      <td> 0</td>\n",
       "      <td> 3</td>\n",
       "      <td>   male</td>\n",
       "      <td> 1</td>\n",
       "      <td>        A/5 21171</td>\n",
       "    </tr>\n",
       "    <tr>\n",
       "      <th>1</th>\n",
       "      <td> train</td>\n",
       "      <td> 2</td>\n",
       "      <td> 1</td>\n",
       "      <td> 38</td>\n",
       "      <td>  C85</td>\n",
       "      <td> C</td>\n",
       "      <td> 71.2833</td>\n",
       "      <td> Cumings, Mrs. John Bradley (Florence Briggs Th...</td>\n",
       "      <td> 0</td>\n",
       "      <td> 1</td>\n",
       "      <td> female</td>\n",
       "      <td> 1</td>\n",
       "      <td>         PC 17599</td>\n",
       "    </tr>\n",
       "    <tr>\n",
       "      <th>2</th>\n",
       "      <td> train</td>\n",
       "      <td> 3</td>\n",
       "      <td> 1</td>\n",
       "      <td> 26</td>\n",
       "      <td>  NaN</td>\n",
       "      <td> S</td>\n",
       "      <td>  7.9250</td>\n",
       "      <td>                            Heikkinen, Miss. Laina</td>\n",
       "      <td> 0</td>\n",
       "      <td> 3</td>\n",
       "      <td> female</td>\n",
       "      <td> 0</td>\n",
       "      <td> STON/O2. 3101282</td>\n",
       "    </tr>\n",
       "    <tr>\n",
       "      <th>3</th>\n",
       "      <td> train</td>\n",
       "      <td> 4</td>\n",
       "      <td> 1</td>\n",
       "      <td> 35</td>\n",
       "      <td> C123</td>\n",
       "      <td> S</td>\n",
       "      <td> 53.1000</td>\n",
       "      <td>      Futrelle, Mrs. Jacques Heath (Lily May Peel)</td>\n",
       "      <td> 0</td>\n",
       "      <td> 1</td>\n",
       "      <td> female</td>\n",
       "      <td> 1</td>\n",
       "      <td>           113803</td>\n",
       "    </tr>\n",
       "    <tr>\n",
       "      <th>4</th>\n",
       "      <td> train</td>\n",
       "      <td> 5</td>\n",
       "      <td> 0</td>\n",
       "      <td> 35</td>\n",
       "      <td>  NaN</td>\n",
       "      <td> S</td>\n",
       "      <td>  8.0500</td>\n",
       "      <td>                          Allen, Mr. William Henry</td>\n",
       "      <td> 0</td>\n",
       "      <td> 3</td>\n",
       "      <td>   male</td>\n",
       "      <td> 0</td>\n",
       "      <td>           373450</td>\n",
       "    </tr>\n",
       "  </tbody>\n",
       "</table>\n",
       "</div>"
      ],
      "text/plain": [
       "    data  passengerid  survived  age cabin embarked     fare                                               name  parch  pclass     sex  sibsp            ticket\n",
       "0  train            1         0   22   NaN        S   7.2500                            Braund, Mr. Owen Harris      0       3    male      1         A/5 21171\n",
       "1  train            2         1   38   C85        C  71.2833  Cumings, Mrs. John Bradley (Florence Briggs Th...      0       1  female      1          PC 17599\n",
       "2  train            3         1   26   NaN        S   7.9250                             Heikkinen, Miss. Laina      0       3  female      0  STON/O2. 3101282\n",
       "3  train            4         1   35  C123        S  53.1000       Futrelle, Mrs. Jacques Heath (Lily May Peel)      0       1  female      1            113803\n",
       "4  train            5         0   35   NaN        S   8.0500                           Allen, Mr. William Henry      0       3    male      0            373450"
      ]
     },
     "execution_count": 163,
     "metadata": {},
     "output_type": "execute_result"
    }
   ],
   "source": [
    "# combine train and test data into one df\n",
    "df = dfs['train'].append(dfs['test'])\n",
    "\n",
    "# lowercase column names\n",
    "df.columns = map(str.lower, df.columns)\n",
    "\n",
    "# reorder columns\n",
    "new_col_order = ['data', 'passengerid', 'survived', 'age',\n",
    "                'cabin', 'embarked', 'fare', 'name', 'parch',\n",
    "                'pclass', 'sex', 'sibsp', 'ticket']\n",
    "df = df[new_col_order]\n",
    "\n",
    "df.head()"
   ]
  },
  {
   "cell_type": "code",
   "execution_count": 164,
   "metadata": {
    "collapsed": false
   },
   "outputs": [
    {
     "data": {
      "text/plain": [
       "data                             train\n",
       "passengerid                          1\n",
       "survived                             0\n",
       "age                                 22\n",
       "cabin                              NaN\n",
       "embarked                             S\n",
       "fare                              7.25\n",
       "name           Braund, Mr. Owen Harris\n",
       "parch                                0\n",
       "pclass                               3\n",
       "sex                               male\n",
       "sibsp                                1\n",
       "ticket                       A/5 21171\n",
       "gender                               1\n",
       "title                               Mr\n",
       "port_C                               0\n",
       "port_Q                               0\n",
       "port_S                               1\n",
       "Name: 0, dtype: object"
      ]
     },
     "execution_count": 164,
     "metadata": {},
     "output_type": "execute_result"
    }
   ],
   "source": [
    "# convert sex to ints (male = 1, female = 0)\n",
    "df['gender'] = df['sex'].apply(lambda x: 1 if x == 'male' else 0)\n",
    "\n",
    "# extract title\n",
    "df['title'] = df['name'].apply(lambda x: x.split(',')[1].split('.')[0].strip())\n",
    "\n",
    "# fill missing age with mean by title\n",
    "age_by_title = df.groupby('title')['age'].agg(np.mean).to_dict()\n",
    "df['age'] = df.apply(lambda row: age_by_title.get(row['title']) \n",
    "                     if pd.isnull(row['age']) else row['age'], axis=1)\n",
    "\n",
    "# fill missing fare with median by pclass\n",
    "# some people have a fare = 0, so only look at those > 0\n",
    "fare_by_pclass = df[df['fare'] > 0].groupby('pclass')['fare'].agg(np.median).to_dict()\n",
    "df['fare'] = df.apply(lambda r: r['fare'] if r['fare'] > 0 \n",
    "                      else fare_by_pclass.get(r['pclass']), axis=1)\n",
    "\n",
    "# fill missing embarked with most common port\n",
    "most_common_port = df['embarked'].mode()[0]\n",
    "df['embarked'] = df['embarked'].fillna(most_common_port)\n",
    "\n",
    "# transform categorical embarked column to 1/0 dummy columns\n",
    "dummies = pd.get_dummies(df['embarked'], prefix='port')\n",
    "df = pd.concat([df, dummies], axis=1)\n",
    "\n",
    "df.iloc[0]"
   ]
  },
  {
   "cell_type": "code",
   "execution_count": 165,
   "metadata": {
    "collapsed": false
   },
   "outputs": [
    {
     "data": {
      "text/html": [
       "<div style=\"max-height:1000px;max-width:1500px;overflow:auto;\">\n",
       "<table border=\"1\" class=\"dataframe\">\n",
       "  <thead>\n",
       "    <tr style=\"text-align: right;\">\n",
       "      <th></th>\n",
       "      <th>data</th>\n",
       "      <th>passengerid</th>\n",
       "      <th>survived</th>\n",
       "      <th>age</th>\n",
       "      <th>fare</th>\n",
       "      <th>parch</th>\n",
       "      <th>pclass</th>\n",
       "      <th>sibsp</th>\n",
       "      <th>gender</th>\n",
       "      <th>port_C</th>\n",
       "      <th>port_Q</th>\n",
       "      <th>port_S</th>\n",
       "    </tr>\n",
       "  </thead>\n",
       "  <tbody>\n",
       "    <tr>\n",
       "      <th>0</th>\n",
       "      <td> train</td>\n",
       "      <td> 1</td>\n",
       "      <td> 0</td>\n",
       "      <td> 22</td>\n",
       "      <td>  7.2500</td>\n",
       "      <td> 0</td>\n",
       "      <td> 3</td>\n",
       "      <td> 1</td>\n",
       "      <td> 1</td>\n",
       "      <td> 0</td>\n",
       "      <td> 0</td>\n",
       "      <td> 1</td>\n",
       "    </tr>\n",
       "    <tr>\n",
       "      <th>1</th>\n",
       "      <td> train</td>\n",
       "      <td> 2</td>\n",
       "      <td> 1</td>\n",
       "      <td> 38</td>\n",
       "      <td> 71.2833</td>\n",
       "      <td> 0</td>\n",
       "      <td> 1</td>\n",
       "      <td> 1</td>\n",
       "      <td> 0</td>\n",
       "      <td> 1</td>\n",
       "      <td> 0</td>\n",
       "      <td> 0</td>\n",
       "    </tr>\n",
       "    <tr>\n",
       "      <th>2</th>\n",
       "      <td> train</td>\n",
       "      <td> 3</td>\n",
       "      <td> 1</td>\n",
       "      <td> 26</td>\n",
       "      <td>  7.9250</td>\n",
       "      <td> 0</td>\n",
       "      <td> 3</td>\n",
       "      <td> 0</td>\n",
       "      <td> 0</td>\n",
       "      <td> 0</td>\n",
       "      <td> 0</td>\n",
       "      <td> 1</td>\n",
       "    </tr>\n",
       "    <tr>\n",
       "      <th>3</th>\n",
       "      <td> train</td>\n",
       "      <td> 4</td>\n",
       "      <td> 1</td>\n",
       "      <td> 35</td>\n",
       "      <td> 53.1000</td>\n",
       "      <td> 0</td>\n",
       "      <td> 1</td>\n",
       "      <td> 1</td>\n",
       "      <td> 0</td>\n",
       "      <td> 0</td>\n",
       "      <td> 0</td>\n",
       "      <td> 1</td>\n",
       "    </tr>\n",
       "    <tr>\n",
       "      <th>4</th>\n",
       "      <td> train</td>\n",
       "      <td> 5</td>\n",
       "      <td> 0</td>\n",
       "      <td> 35</td>\n",
       "      <td>  8.0500</td>\n",
       "      <td> 0</td>\n",
       "      <td> 3</td>\n",
       "      <td> 0</td>\n",
       "      <td> 1</td>\n",
       "      <td> 0</td>\n",
       "      <td> 0</td>\n",
       "      <td> 1</td>\n",
       "    </tr>\n",
       "  </tbody>\n",
       "</table>\n",
       "</div>"
      ],
      "text/plain": [
       "    data  passengerid  survived  age     fare  parch  pclass  sibsp  gender  port_C  port_Q  port_S\n",
       "0  train            1         0   22   7.2500      0       3      1       1       0       0       1\n",
       "1  train            2         1   38  71.2833      0       1      1       0       1       0       0\n",
       "2  train            3         1   26   7.9250      0       3      0       0       0       0       1\n",
       "3  train            4         1   35  53.1000      0       1      1       0       0       0       1\n",
       "4  train            5         0   35   8.0500      0       3      0       1       0       0       1"
      ]
     },
     "execution_count": 165,
     "metadata": {},
     "output_type": "execute_result"
    }
   ],
   "source": [
    "# drop unnecessary columns\n",
    "drop_cols = ['cabin', 'name', 'sex', 'ticket', 'title', 'embarked']\n",
    "df = df.drop(drop_cols, axis=1)\n",
    "\n",
    "df.head()"
   ]
  },
  {
   "cell_type": "code",
   "execution_count": 166,
   "metadata": {
    "collapsed": false
   },
   "outputs": [
    {
     "data": {
      "image/png": "[encoded data removed]",
      "text/plain": [
       "<matplotlib.figure.Figure at 0x10e6f8650>"
      ]
     },
     "metadata": {},
     "output_type": "display_data"
    },
    {
     "data": {
      "image/png": "[encoded data removed]",
      "text/plain": [
       "<matplotlib.figure.Figure at 0x10e6f8fd0>"
      ]
     },
     "metadata": {},
     "output_type": "display_data"
    },
    {
     "data": {
      "image/png": "[encoded data removed]",
      "text/plain": [
       "<matplotlib.figure.Figure at 0x10eb2dcd0>"
      ]
     },
     "metadata": {},
     "output_type": "display_data"
    },
    {
     "data": {
      "image/png": "[encoded data removed]",
      "text/plain": [
       "<matplotlib.figure.Figure at 0x10de682d0>"
      ]
     },
     "metadata": {},
     "output_type": "display_data"
    }
   ],
   "source": [
    "# survival rates across various columns\n",
    "\n",
    "def plot_survive_rate(df, col, chart='barh'):\n",
    "    survive_rates = df.groupby(col).agg({\n",
    "        'survived': lambda x : sum(x) / len(x)\n",
    "    })\n",
    "    survive_rates.plot(kind=chart);\n",
    "\n",
    "def bin_num(x, base=5):\n",
    "    return int(x - (x % base))\n",
    "    \n",
    "# get cleaned training data\n",
    "dg = df[df['data'] == 'train'].copy()\n",
    "\n",
    "# discretize age & fare\n",
    "dg['age_bin'] = dg['age'].apply(lambda x: bin_num(x, 10))\n",
    "dg['fare_bin'] = dg['fare'].apply(lambda x: bin_num(x, 25))\n",
    "\n",
    "for col in ['pclass', 'gender', 'age_bin', 'fare_bin']:\n",
    "    plot_survive_rate(dg, col)"
   ]
  },
  {
   "cell_type": "code",
   "execution_count": 167,
   "metadata": {
    "collapsed": false
   },
   "outputs": [
    {
     "name": "stdout",
     "output_type": "stream",
     "text": [
      "9 total features\n",
      "['age' 'fare' 'parch' 'pclass' 'sibsp' 'gender' 'port_C' 'port_Q' 'port_S']\n"
     ]
    }
   ],
   "source": [
    "# store the columns (features) to be used in classification\n",
    "x_cols = df.columns.values[3:]\n",
    "\n",
    "print '%d total features' % len(x_cols)\n",
    "print x_cols"
   ]
  },
  {
   "cell_type": "code",
   "execution_count": 168,
   "metadata": {
    "collapsed": false
   },
   "outputs": [
    {
     "name": "stdout",
     "output_type": "stream",
     "text": [
      "891 rows, 9 features\n"
     ]
    }
   ],
   "source": [
    "# prep training data for classifying\n",
    "# (separating features and metric we're predicting)\n",
    "\n",
    "df_train = df[df['data'] == 'train']\n",
    "\n",
    "X = df_train[x_cols].as_matrix()\n",
    "y = df_train['survived'].as_matrix()\n",
    "\n",
    "print '%d rows, %d features' % (len(df_train), len(x_cols))"
   ]
  },
  {
   "cell_type": "code",
   "execution_count": 172,
   "metadata": {
    "collapsed": false
   },
   "outputs": [
    {
     "name": "stdout",
     "output_type": "stream",
     "text": [
      "accuracy: 0.799102\n"
     ]
    }
   ],
   "source": [
    "# cross validation to evaluate model\n",
    "# (dividing training data into n chunks and training model n times \n",
    "# with a different holdout chunk each time)\n",
    "\n",
    "cv = StratifiedKFold(y, n_folds=6)\n",
    "tot_correct, tot_obs = 0, 0\n",
    "\n",
    "for i, (train, test) in enumerate(cv):\n",
    "    X_train = X[train]\n",
    "    y_train = y[train]\n",
    "    X_test = X[test]\n",
    "    y_test = y[test]\n",
    "\n",
    "    model = RandomForestClassifier(random_state=321) \n",
    "    model.fit(X_train, y_train)\n",
    "\n",
    "    y_pred = model.predict(X_test)\n",
    "    \n",
    "    correct, obs = (y_test == y_pred).sum(), len(y_test)\n",
    "    tot_correct += correct\n",
    "    tot_obs += obs\n",
    "\n",
    "print 'accuracy: %f' % (tot_correct * 1.0 / tot_obs)"
   ]
  },
  {
   "cell_type": "code",
   "execution_count": 173,
   "metadata": {
    "collapsed": false
   },
   "outputs": [
    {
     "data": {
      "text/plain": [
       "fare      0.265518\n",
       "age       0.264835\n",
       "gender    0.259047\n",
       "pclass    0.078497\n",
       "sibsp     0.054447\n",
       "parch     0.046165\n",
       "port_S    0.011954\n",
       "port_C    0.011904\n",
       "port_Q    0.007634\n",
       "dtype: float64"
      ]
     },
     "execution_count": 173,
     "metadata": {},
     "output_type": "execute_result"
    }
   ],
   "source": [
    "# evaluate model over entire training set \n",
    "# and look at each feature's importance\n",
    "\n",
    "model = RandomForestClassifier(random_state=321)\n",
    "model.fit(X, y)\n",
    "\n",
    "feature_rank = pd.Series(model.feature_importances_, index=x_cols).order(ascending=False)\n",
    "feature_rank"
   ]
  },
  {
   "cell_type": "code",
   "execution_count": 180,
   "metadata": {
    "collapsed": false,
    "scrolled": false
   },
   "outputs": [
    {
     "name": "stdout",
     "output_type": "stream",
     "text": [
      "0.836139169473\n",
      "{'max_features': 0.5, 'n_estimators': 100, 'criterion': 'entropy', 'max_depth': 7}\n"
     ]
    }
   ],
   "source": [
    "# model parameter tuning\n",
    "# (there are several input parameters to a random forest model;\n",
    "# grid search automates the process of tweaking these parameters to find the \n",
    "# optimal values for these parameters)\n",
    "\n",
    "param_grid = {\n",
    "    \"n_estimators\": [100],\n",
    "    \"criterion\": [\"gini\", \"entropy\"],\n",
    "    'max_features': [0.5, 1.0, \"sqrt\"],\n",
    "    'max_depth': [4, 5, 6, 7, 8, None],\n",
    "}\n",
    "\n",
    "model = RandomForestClassifier(random_state=321)\n",
    "grid_search = GridSearchCV(model, param_grid, cv=12, verbose=0)\n",
    "grid_search.fit(X, y)\n",
    "\n",
    "print grid_search.best_score_\n",
    "print grid_search.best_params_"
   ]
  },
  {
   "cell_type": "code",
   "execution_count": 182,
   "metadata": {
    "collapsed": false
   },
   "outputs": [
    {
     "name": "stdout",
     "output_type": "stream",
     "text": [
      "boom.\n"
     ]
    }
   ],
   "source": [
    "# train model with best parameters from grid search\n",
    "# and finally predict survival of people from test data\n",
    "\n",
    "df_train = df[df['data'] == 'train'].copy()\n",
    "\n",
    "X_train = df_train[x_cols].as_matrix()\n",
    "y_train = df_train['survived'].as_matrix()\n",
    "\n",
    "model = RandomForestClassifier(\n",
    "    n_estimators=100, \n",
    "    criterion='entropy', \n",
    "    max_features=0.5, \n",
    "    max_depth=7,\n",
    "    random_state=321,\n",
    ")\n",
    "\n",
    "model.fit(X_train, y_train)\n",
    "\n",
    "df_test = df[df['data'] == 'test'].copy()\n",
    "\n",
    "X_test = df_test[x_cols].as_matrix()\n",
    "y_pred = model.predict(X_test).astype(int)\n",
    "\n",
    "df_test['survived'] = y_pred\n",
    "\n",
    "final_df = df_test[['passengerid', 'survived']]\n",
    "final_df.to_csv('../output/predicted.csv', index=False)\n",
    "print 'boom.'"
   ]
  }
 ],
 "metadata": {
  "kernelspec": {
   "display_name": "Python 2",
   "language": "python",
   "name": "python2"
  },
  "language_info": {
   "codemirror_mode": {
    "name": "ipython",
    "version": 2
   },
   "file_extension": ".py",
   "mimetype": "text/x-python",
   "name": "python",
   "nbconvert_exporter": "python",
   "pygments_lexer": "ipython2",
   "version": "2.7.6"
  }
 },
 "nbformat": 4,
 "nbformat_minor": 0
}
